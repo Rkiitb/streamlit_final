{
 "cells": [
  {
   "cell_type": "code",
   "execution_count": 204,
   "id": "53ea5817",
   "metadata": {
    "id": "53ea5817"
   },
   "outputs": [],
   "source": [
    "import numpy as np"
   ]
  },
  {
   "cell_type": "code",
   "execution_count": 205,
   "id": "9b48f72e",
   "metadata": {
    "id": "9b48f72e"
   },
   "outputs": [],
   "source": [
    "import pandas as pd"
   ]
  },
  {
   "cell_type": "code",
   "execution_count": 206,
   "id": "20fef678",
   "metadata": {
    "id": "20fef678"
   },
   "outputs": [],
   "source": [
    "df=pd.read_csv('spam.csv')"
   ]
  },
  {
   "cell_type": "code",
   "execution_count": 207,
   "id": "ad818ca8",
   "metadata": {
    "colab": {
     "base_uri": "https://localhost:8080/",
     "height": 423
    },
    "id": "ad818ca8",
    "outputId": "99d79a33-33b6-43d6-a4e5-2771a1b5088a"
   },
   "outputs": [
    {
     "data": {
      "text/html": [
       "<div>\n",
       "<style scoped>\n",
       "    .dataframe tbody tr th:only-of-type {\n",
       "        vertical-align: middle;\n",
       "    }\n",
       "\n",
       "    .dataframe tbody tr th {\n",
       "        vertical-align: top;\n",
       "    }\n",
       "\n",
       "    .dataframe thead th {\n",
       "        text-align: right;\n",
       "    }\n",
       "</style>\n",
       "<table border=\"1\" class=\"dataframe\">\n",
       "  <thead>\n",
       "    <tr style=\"text-align: right;\">\n",
       "      <th></th>\n",
       "      <th>v1</th>\n",
       "      <th>v2</th>\n",
       "      <th>Unnamed: 2</th>\n",
       "      <th>Unnamed: 3</th>\n",
       "      <th>Unnamed: 4</th>\n",
       "    </tr>\n",
       "  </thead>\n",
       "  <tbody>\n",
       "    <tr>\n",
       "      <th>0</th>\n",
       "      <td>ham</td>\n",
       "      <td>Go until jurong point, crazy.. Available only ...</td>\n",
       "      <td>NaN</td>\n",
       "      <td>NaN</td>\n",
       "      <td>NaN</td>\n",
       "    </tr>\n",
       "    <tr>\n",
       "      <th>1</th>\n",
       "      <td>ham</td>\n",
       "      <td>Ok lar... Joking wif u oni...</td>\n",
       "      <td>NaN</td>\n",
       "      <td>NaN</td>\n",
       "      <td>NaN</td>\n",
       "    </tr>\n",
       "    <tr>\n",
       "      <th>2</th>\n",
       "      <td>spam</td>\n",
       "      <td>Free entry in 2 a wkly comp to win FA Cup fina...</td>\n",
       "      <td>NaN</td>\n",
       "      <td>NaN</td>\n",
       "      <td>NaN</td>\n",
       "    </tr>\n",
       "    <tr>\n",
       "      <th>3</th>\n",
       "      <td>ham</td>\n",
       "      <td>U dun say so early hor... U c already then say...</td>\n",
       "      <td>NaN</td>\n",
       "      <td>NaN</td>\n",
       "      <td>NaN</td>\n",
       "    </tr>\n",
       "    <tr>\n",
       "      <th>4</th>\n",
       "      <td>ham</td>\n",
       "      <td>Nah I don't think he goes to usf, he lives aro...</td>\n",
       "      <td>NaN</td>\n",
       "      <td>NaN</td>\n",
       "      <td>NaN</td>\n",
       "    </tr>\n",
       "    <tr>\n",
       "      <th>...</th>\n",
       "      <td>...</td>\n",
       "      <td>...</td>\n",
       "      <td>...</td>\n",
       "      <td>...</td>\n",
       "      <td>...</td>\n",
       "    </tr>\n",
       "    <tr>\n",
       "      <th>5567</th>\n",
       "      <td>spam</td>\n",
       "      <td>This is the 2nd time we have tried 2 contact u...</td>\n",
       "      <td>NaN</td>\n",
       "      <td>NaN</td>\n",
       "      <td>NaN</td>\n",
       "    </tr>\n",
       "    <tr>\n",
       "      <th>5568</th>\n",
       "      <td>ham</td>\n",
       "      <td>Will Ì_ b going to esplanade fr home?</td>\n",
       "      <td>NaN</td>\n",
       "      <td>NaN</td>\n",
       "      <td>NaN</td>\n",
       "    </tr>\n",
       "    <tr>\n",
       "      <th>5569</th>\n",
       "      <td>ham</td>\n",
       "      <td>Pity, * was in mood for that. So...any other s...</td>\n",
       "      <td>NaN</td>\n",
       "      <td>NaN</td>\n",
       "      <td>NaN</td>\n",
       "    </tr>\n",
       "    <tr>\n",
       "      <th>5570</th>\n",
       "      <td>ham</td>\n",
       "      <td>The guy did some bitching but I acted like i'd...</td>\n",
       "      <td>NaN</td>\n",
       "      <td>NaN</td>\n",
       "      <td>NaN</td>\n",
       "    </tr>\n",
       "    <tr>\n",
       "      <th>5571</th>\n",
       "      <td>ham</td>\n",
       "      <td>Rofl. Its true to its name</td>\n",
       "      <td>NaN</td>\n",
       "      <td>NaN</td>\n",
       "      <td>NaN</td>\n",
       "    </tr>\n",
       "  </tbody>\n",
       "</table>\n",
       "<p>5572 rows × 5 columns</p>\n",
       "</div>"
      ],
      "text/plain": [
       "        v1                                                 v2 Unnamed: 2  \\\n",
       "0      ham  Go until jurong point, crazy.. Available only ...        NaN   \n",
       "1      ham                      Ok lar... Joking wif u oni...        NaN   \n",
       "2     spam  Free entry in 2 a wkly comp to win FA Cup fina...        NaN   \n",
       "3      ham  U dun say so early hor... U c already then say...        NaN   \n",
       "4      ham  Nah I don't think he goes to usf, he lives aro...        NaN   \n",
       "...    ...                                                ...        ...   \n",
       "5567  spam  This is the 2nd time we have tried 2 contact u...        NaN   \n",
       "5568   ham              Will Ì_ b going to esplanade fr home?        NaN   \n",
       "5569   ham  Pity, * was in mood for that. So...any other s...        NaN   \n",
       "5570   ham  The guy did some bitching but I acted like i'd...        NaN   \n",
       "5571   ham                         Rofl. Its true to its name        NaN   \n",
       "\n",
       "     Unnamed: 3 Unnamed: 4  \n",
       "0           NaN        NaN  \n",
       "1           NaN        NaN  \n",
       "2           NaN        NaN  \n",
       "3           NaN        NaN  \n",
       "4           NaN        NaN  \n",
       "...         ...        ...  \n",
       "5567        NaN        NaN  \n",
       "5568        NaN        NaN  \n",
       "5569        NaN        NaN  \n",
       "5570        NaN        NaN  \n",
       "5571        NaN        NaN  \n",
       "\n",
       "[5572 rows x 5 columns]"
      ]
     },
     "execution_count": 207,
     "metadata": {},
     "output_type": "execute_result"
    }
   ],
   "source": [
    "df"
   ]
  },
  {
   "cell_type": "code",
   "execution_count": 208,
   "id": "25f3c006",
   "metadata": {
    "colab": {
     "base_uri": "https://localhost:8080/"
    },
    "id": "25f3c006",
    "outputId": "215618d6-37d9-4f27-fc3f-0503728a5fb0"
   },
   "outputs": [
    {
     "name": "stdout",
     "output_type": "stream",
     "text": [
      "<class 'pandas.core.frame.DataFrame'>\n",
      "RangeIndex: 5572 entries, 0 to 5571\n",
      "Data columns (total 5 columns):\n",
      " #   Column      Non-Null Count  Dtype \n",
      "---  ------      --------------  ----- \n",
      " 0   v1          5572 non-null   object\n",
      " 1   v2          5572 non-null   object\n",
      " 2   Unnamed: 2  50 non-null     object\n",
      " 3   Unnamed: 3  12 non-null     object\n",
      " 4   Unnamed: 4  6 non-null      object\n",
      "dtypes: object(5)\n",
      "memory usage: 217.8+ KB\n"
     ]
    }
   ],
   "source": [
    "df.info()"
   ]
  },
  {
   "cell_type": "code",
   "execution_count": 209,
   "id": "851ce63d",
   "metadata": {
    "colab": {
     "base_uri": "https://localhost:8080/"
    },
    "id": "851ce63d",
    "outputId": "1ad9fd66-f7e2-40e9-9aa2-8e5d605d4b4d"
   },
   "outputs": [
    {
     "data": {
      "text/plain": [
       "(5572, 5)"
      ]
     },
     "execution_count": 209,
     "metadata": {},
     "output_type": "execute_result"
    }
   ],
   "source": [
    "df.shape"
   ]
  },
  {
   "cell_type": "markdown",
   "id": "0a2d9ba5",
   "metadata": {
    "id": "0a2d9ba5"
   },
   "source": [
    "# DATA CLEANING"
   ]
  },
  {
   "cell_type": "markdown",
   "id": "0b9bc280",
   "metadata": {
    "id": "0b9bc280"
   },
   "source": [
    "drop last three columns"
   ]
  },
  {
   "cell_type": "code",
   "execution_count": 210,
   "id": "e58fda2d",
   "metadata": {
    "id": "e58fda2d"
   },
   "outputs": [],
   "source": [
    "df.drop(columns=['Unnamed: 2','Unnamed: 3','Unnamed: 4'],inplace=True)"
   ]
  },
  {
   "cell_type": "code",
   "execution_count": 211,
   "id": "fe041607",
   "metadata": {
    "colab": {
     "base_uri": "https://localhost:8080/",
     "height": 423
    },
    "id": "fe041607",
    "outputId": "35d2a256-8e11-49d8-d831-4df62d11f82e"
   },
   "outputs": [
    {
     "data": {
      "text/html": [
       "<div>\n",
       "<style scoped>\n",
       "    .dataframe tbody tr th:only-of-type {\n",
       "        vertical-align: middle;\n",
       "    }\n",
       "\n",
       "    .dataframe tbody tr th {\n",
       "        vertical-align: top;\n",
       "    }\n",
       "\n",
       "    .dataframe thead th {\n",
       "        text-align: right;\n",
       "    }\n",
       "</style>\n",
       "<table border=\"1\" class=\"dataframe\">\n",
       "  <thead>\n",
       "    <tr style=\"text-align: right;\">\n",
       "      <th></th>\n",
       "      <th>v1</th>\n",
       "      <th>v2</th>\n",
       "    </tr>\n",
       "  </thead>\n",
       "  <tbody>\n",
       "    <tr>\n",
       "      <th>0</th>\n",
       "      <td>ham</td>\n",
       "      <td>Go until jurong point, crazy.. Available only ...</td>\n",
       "    </tr>\n",
       "    <tr>\n",
       "      <th>1</th>\n",
       "      <td>ham</td>\n",
       "      <td>Ok lar... Joking wif u oni...</td>\n",
       "    </tr>\n",
       "    <tr>\n",
       "      <th>2</th>\n",
       "      <td>spam</td>\n",
       "      <td>Free entry in 2 a wkly comp to win FA Cup fina...</td>\n",
       "    </tr>\n",
       "    <tr>\n",
       "      <th>3</th>\n",
       "      <td>ham</td>\n",
       "      <td>U dun say so early hor... U c already then say...</td>\n",
       "    </tr>\n",
       "    <tr>\n",
       "      <th>4</th>\n",
       "      <td>ham</td>\n",
       "      <td>Nah I don't think he goes to usf, he lives aro...</td>\n",
       "    </tr>\n",
       "    <tr>\n",
       "      <th>...</th>\n",
       "      <td>...</td>\n",
       "      <td>...</td>\n",
       "    </tr>\n",
       "    <tr>\n",
       "      <th>5567</th>\n",
       "      <td>spam</td>\n",
       "      <td>This is the 2nd time we have tried 2 contact u...</td>\n",
       "    </tr>\n",
       "    <tr>\n",
       "      <th>5568</th>\n",
       "      <td>ham</td>\n",
       "      <td>Will Ì_ b going to esplanade fr home?</td>\n",
       "    </tr>\n",
       "    <tr>\n",
       "      <th>5569</th>\n",
       "      <td>ham</td>\n",
       "      <td>Pity, * was in mood for that. So...any other s...</td>\n",
       "    </tr>\n",
       "    <tr>\n",
       "      <th>5570</th>\n",
       "      <td>ham</td>\n",
       "      <td>The guy did some bitching but I acted like i'd...</td>\n",
       "    </tr>\n",
       "    <tr>\n",
       "      <th>5571</th>\n",
       "      <td>ham</td>\n",
       "      <td>Rofl. Its true to its name</td>\n",
       "    </tr>\n",
       "  </tbody>\n",
       "</table>\n",
       "<p>5572 rows × 2 columns</p>\n",
       "</div>"
      ],
      "text/plain": [
       "        v1                                                 v2\n",
       "0      ham  Go until jurong point, crazy.. Available only ...\n",
       "1      ham                      Ok lar... Joking wif u oni...\n",
       "2     spam  Free entry in 2 a wkly comp to win FA Cup fina...\n",
       "3      ham  U dun say so early hor... U c already then say...\n",
       "4      ham  Nah I don't think he goes to usf, he lives aro...\n",
       "...    ...                                                ...\n",
       "5567  spam  This is the 2nd time we have tried 2 contact u...\n",
       "5568   ham              Will Ì_ b going to esplanade fr home?\n",
       "5569   ham  Pity, * was in mood for that. So...any other s...\n",
       "5570   ham  The guy did some bitching but I acted like i'd...\n",
       "5571   ham                         Rofl. Its true to its name\n",
       "\n",
       "[5572 rows x 2 columns]"
      ]
     },
     "execution_count": 211,
     "metadata": {},
     "output_type": "execute_result"
    }
   ],
   "source": [
    "df"
   ]
  },
  {
   "cell_type": "code",
   "execution_count": 212,
   "id": "7ee1470c",
   "metadata": {
    "id": "7ee1470c"
   },
   "outputs": [],
   "source": [
    "df.rename(columns={'v1':'Class','v2':'SMS'},inplace=True)"
   ]
  },
  {
   "cell_type": "code",
   "execution_count": 213,
   "id": "31cc81d1",
   "metadata": {
    "colab": {
     "base_uri": "https://localhost:8080/",
     "height": 423
    },
    "id": "31cc81d1",
    "outputId": "5d483624-b51f-4f3a-bdb6-94a49834e181"
   },
   "outputs": [
    {
     "data": {
      "text/html": [
       "<div>\n",
       "<style scoped>\n",
       "    .dataframe tbody tr th:only-of-type {\n",
       "        vertical-align: middle;\n",
       "    }\n",
       "\n",
       "    .dataframe tbody tr th {\n",
       "        vertical-align: top;\n",
       "    }\n",
       "\n",
       "    .dataframe thead th {\n",
       "        text-align: right;\n",
       "    }\n",
       "</style>\n",
       "<table border=\"1\" class=\"dataframe\">\n",
       "  <thead>\n",
       "    <tr style=\"text-align: right;\">\n",
       "      <th></th>\n",
       "      <th>Class</th>\n",
       "      <th>SMS</th>\n",
       "    </tr>\n",
       "  </thead>\n",
       "  <tbody>\n",
       "    <tr>\n",
       "      <th>0</th>\n",
       "      <td>ham</td>\n",
       "      <td>Go until jurong point, crazy.. Available only ...</td>\n",
       "    </tr>\n",
       "    <tr>\n",
       "      <th>1</th>\n",
       "      <td>ham</td>\n",
       "      <td>Ok lar... Joking wif u oni...</td>\n",
       "    </tr>\n",
       "    <tr>\n",
       "      <th>2</th>\n",
       "      <td>spam</td>\n",
       "      <td>Free entry in 2 a wkly comp to win FA Cup fina...</td>\n",
       "    </tr>\n",
       "    <tr>\n",
       "      <th>3</th>\n",
       "      <td>ham</td>\n",
       "      <td>U dun say so early hor... U c already then say...</td>\n",
       "    </tr>\n",
       "    <tr>\n",
       "      <th>4</th>\n",
       "      <td>ham</td>\n",
       "      <td>Nah I don't think he goes to usf, he lives aro...</td>\n",
       "    </tr>\n",
       "    <tr>\n",
       "      <th>...</th>\n",
       "      <td>...</td>\n",
       "      <td>...</td>\n",
       "    </tr>\n",
       "    <tr>\n",
       "      <th>5567</th>\n",
       "      <td>spam</td>\n",
       "      <td>This is the 2nd time we have tried 2 contact u...</td>\n",
       "    </tr>\n",
       "    <tr>\n",
       "      <th>5568</th>\n",
       "      <td>ham</td>\n",
       "      <td>Will Ì_ b going to esplanade fr home?</td>\n",
       "    </tr>\n",
       "    <tr>\n",
       "      <th>5569</th>\n",
       "      <td>ham</td>\n",
       "      <td>Pity, * was in mood for that. So...any other s...</td>\n",
       "    </tr>\n",
       "    <tr>\n",
       "      <th>5570</th>\n",
       "      <td>ham</td>\n",
       "      <td>The guy did some bitching but I acted like i'd...</td>\n",
       "    </tr>\n",
       "    <tr>\n",
       "      <th>5571</th>\n",
       "      <td>ham</td>\n",
       "      <td>Rofl. Its true to its name</td>\n",
       "    </tr>\n",
       "  </tbody>\n",
       "</table>\n",
       "<p>5572 rows × 2 columns</p>\n",
       "</div>"
      ],
      "text/plain": [
       "     Class                                                SMS\n",
       "0      ham  Go until jurong point, crazy.. Available only ...\n",
       "1      ham                      Ok lar... Joking wif u oni...\n",
       "2     spam  Free entry in 2 a wkly comp to win FA Cup fina...\n",
       "3      ham  U dun say so early hor... U c already then say...\n",
       "4      ham  Nah I don't think he goes to usf, he lives aro...\n",
       "...    ...                                                ...\n",
       "5567  spam  This is the 2nd time we have tried 2 contact u...\n",
       "5568   ham              Will Ì_ b going to esplanade fr home?\n",
       "5569   ham  Pity, * was in mood for that. So...any other s...\n",
       "5570   ham  The guy did some bitching but I acted like i'd...\n",
       "5571   ham                         Rofl. Its true to its name\n",
       "\n",
       "[5572 rows x 2 columns]"
      ]
     },
     "execution_count": 213,
     "metadata": {},
     "output_type": "execute_result"
    }
   ],
   "source": [
    "df"
   ]
  },
  {
   "cell_type": "markdown",
   "id": "ec9ed50f",
   "metadata": {
    "id": "ec9ed50f"
   },
   "source": [
    "Convert Class into binary numbers"
   ]
  },
  {
   "cell_type": "code",
   "execution_count": 214,
   "id": "2d84b7d9",
   "metadata": {
    "id": "2d84b7d9"
   },
   "outputs": [],
   "source": [
    "from sklearn.preprocessing import LabelEncoder\n",
    "le=LabelEncoder()"
   ]
  },
  {
   "cell_type": "code",
   "execution_count": 215,
   "id": "9281e7a8",
   "metadata": {
    "id": "9281e7a8"
   },
   "outputs": [],
   "source": [
    " df['Class']=le.fit_transform(df['Class'])"
   ]
  },
  {
   "cell_type": "code",
   "execution_count": 216,
   "id": "8edea95d",
   "metadata": {
    "colab": {
     "base_uri": "https://localhost:8080/",
     "height": 423
    },
    "id": "8edea95d",
    "outputId": "2e1a34eb-1b64-4fda-8cb2-4603a813753a"
   },
   "outputs": [
    {
     "data": {
      "text/html": [
       "<div>\n",
       "<style scoped>\n",
       "    .dataframe tbody tr th:only-of-type {\n",
       "        vertical-align: middle;\n",
       "    }\n",
       "\n",
       "    .dataframe tbody tr th {\n",
       "        vertical-align: top;\n",
       "    }\n",
       "\n",
       "    .dataframe thead th {\n",
       "        text-align: right;\n",
       "    }\n",
       "</style>\n",
       "<table border=\"1\" class=\"dataframe\">\n",
       "  <thead>\n",
       "    <tr style=\"text-align: right;\">\n",
       "      <th></th>\n",
       "      <th>Class</th>\n",
       "      <th>SMS</th>\n",
       "    </tr>\n",
       "  </thead>\n",
       "  <tbody>\n",
       "    <tr>\n",
       "      <th>0</th>\n",
       "      <td>0</td>\n",
       "      <td>Go until jurong point, crazy.. Available only ...</td>\n",
       "    </tr>\n",
       "    <tr>\n",
       "      <th>1</th>\n",
       "      <td>0</td>\n",
       "      <td>Ok lar... Joking wif u oni...</td>\n",
       "    </tr>\n",
       "    <tr>\n",
       "      <th>2</th>\n",
       "      <td>1</td>\n",
       "      <td>Free entry in 2 a wkly comp to win FA Cup fina...</td>\n",
       "    </tr>\n",
       "    <tr>\n",
       "      <th>3</th>\n",
       "      <td>0</td>\n",
       "      <td>U dun say so early hor... U c already then say...</td>\n",
       "    </tr>\n",
       "    <tr>\n",
       "      <th>4</th>\n",
       "      <td>0</td>\n",
       "      <td>Nah I don't think he goes to usf, he lives aro...</td>\n",
       "    </tr>\n",
       "    <tr>\n",
       "      <th>...</th>\n",
       "      <td>...</td>\n",
       "      <td>...</td>\n",
       "    </tr>\n",
       "    <tr>\n",
       "      <th>5567</th>\n",
       "      <td>1</td>\n",
       "      <td>This is the 2nd time we have tried 2 contact u...</td>\n",
       "    </tr>\n",
       "    <tr>\n",
       "      <th>5568</th>\n",
       "      <td>0</td>\n",
       "      <td>Will Ì_ b going to esplanade fr home?</td>\n",
       "    </tr>\n",
       "    <tr>\n",
       "      <th>5569</th>\n",
       "      <td>0</td>\n",
       "      <td>Pity, * was in mood for that. So...any other s...</td>\n",
       "    </tr>\n",
       "    <tr>\n",
       "      <th>5570</th>\n",
       "      <td>0</td>\n",
       "      <td>The guy did some bitching but I acted like i'd...</td>\n",
       "    </tr>\n",
       "    <tr>\n",
       "      <th>5571</th>\n",
       "      <td>0</td>\n",
       "      <td>Rofl. Its true to its name</td>\n",
       "    </tr>\n",
       "  </tbody>\n",
       "</table>\n",
       "<p>5572 rows × 2 columns</p>\n",
       "</div>"
      ],
      "text/plain": [
       "      Class                                                SMS\n",
       "0         0  Go until jurong point, crazy.. Available only ...\n",
       "1         0                      Ok lar... Joking wif u oni...\n",
       "2         1  Free entry in 2 a wkly comp to win FA Cup fina...\n",
       "3         0  U dun say so early hor... U c already then say...\n",
       "4         0  Nah I don't think he goes to usf, he lives aro...\n",
       "...     ...                                                ...\n",
       "5567      1  This is the 2nd time we have tried 2 contact u...\n",
       "5568      0              Will Ì_ b going to esplanade fr home?\n",
       "5569      0  Pity, * was in mood for that. So...any other s...\n",
       "5570      0  The guy did some bitching but I acted like i'd...\n",
       "5571      0                         Rofl. Its true to its name\n",
       "\n",
       "[5572 rows x 2 columns]"
      ]
     },
     "execution_count": 216,
     "metadata": {},
     "output_type": "execute_result"
    }
   ],
   "source": [
    "df"
   ]
  },
  {
   "cell_type": "markdown",
   "id": "fd1db5fd",
   "metadata": {
    "id": "fd1db5fd"
   },
   "source": [
    "Now our spam is =1 and non spam=0"
   ]
  },
  {
   "cell_type": "code",
   "execution_count": 217,
   "id": "7818397d",
   "metadata": {
    "colab": {
     "base_uri": "https://localhost:8080/"
    },
    "id": "7818397d",
    "outputId": "e3647213-14e7-428d-f06f-4c15f48da422"
   },
   "outputs": [
    {
     "data": {
      "text/plain": [
       "Class    0\n",
       "SMS      0\n",
       "dtype: int64"
      ]
     },
     "execution_count": 217,
     "metadata": {},
     "output_type": "execute_result"
    }
   ],
   "source": [
    "df.isnull().sum()"
   ]
  },
  {
   "cell_type": "markdown",
   "id": "0a9ce6e7",
   "metadata": {
    "id": "0a9ce6e7"
   },
   "source": [
    "no missing values"
   ]
  },
  {
   "cell_type": "code",
   "execution_count": 218,
   "id": "6a5779de",
   "metadata": {
    "colab": {
     "base_uri": "https://localhost:8080/"
    },
    "id": "6a5779de",
    "outputId": "727384c8-e030-4f8a-8c1f-43967a70bbe6"
   },
   "outputs": [
    {
     "data": {
      "text/plain": [
       "403"
      ]
     },
     "execution_count": 218,
     "metadata": {},
     "output_type": "execute_result"
    }
   ],
   "source": [
    "df.duplicated().sum()"
   ]
  },
  {
   "cell_type": "code",
   "execution_count": 219,
   "id": "5a7dee28",
   "metadata": {
    "id": "5a7dee28"
   },
   "outputs": [],
   "source": [
    "df.drop_duplicates(inplace=True)"
   ]
  },
  {
   "cell_type": "code",
   "execution_count": 220,
   "id": "0832d91e",
   "metadata": {
    "colab": {
     "base_uri": "https://localhost:8080/",
     "height": 423
    },
    "id": "0832d91e",
    "outputId": "08fbf9d2-c1d3-44b1-f8e6-6ca0de25076a"
   },
   "outputs": [
    {
     "data": {
      "text/html": [
       "<div>\n",
       "<style scoped>\n",
       "    .dataframe tbody tr th:only-of-type {\n",
       "        vertical-align: middle;\n",
       "    }\n",
       "\n",
       "    .dataframe tbody tr th {\n",
       "        vertical-align: top;\n",
       "    }\n",
       "\n",
       "    .dataframe thead th {\n",
       "        text-align: right;\n",
       "    }\n",
       "</style>\n",
       "<table border=\"1\" class=\"dataframe\">\n",
       "  <thead>\n",
       "    <tr style=\"text-align: right;\">\n",
       "      <th></th>\n",
       "      <th>Class</th>\n",
       "      <th>SMS</th>\n",
       "    </tr>\n",
       "  </thead>\n",
       "  <tbody>\n",
       "    <tr>\n",
       "      <th>0</th>\n",
       "      <td>0</td>\n",
       "      <td>Go until jurong point, crazy.. Available only ...</td>\n",
       "    </tr>\n",
       "    <tr>\n",
       "      <th>1</th>\n",
       "      <td>0</td>\n",
       "      <td>Ok lar... Joking wif u oni...</td>\n",
       "    </tr>\n",
       "    <tr>\n",
       "      <th>2</th>\n",
       "      <td>1</td>\n",
       "      <td>Free entry in 2 a wkly comp to win FA Cup fina...</td>\n",
       "    </tr>\n",
       "    <tr>\n",
       "      <th>3</th>\n",
       "      <td>0</td>\n",
       "      <td>U dun say so early hor... U c already then say...</td>\n",
       "    </tr>\n",
       "    <tr>\n",
       "      <th>4</th>\n",
       "      <td>0</td>\n",
       "      <td>Nah I don't think he goes to usf, he lives aro...</td>\n",
       "    </tr>\n",
       "    <tr>\n",
       "      <th>...</th>\n",
       "      <td>...</td>\n",
       "      <td>...</td>\n",
       "    </tr>\n",
       "    <tr>\n",
       "      <th>5567</th>\n",
       "      <td>1</td>\n",
       "      <td>This is the 2nd time we have tried 2 contact u...</td>\n",
       "    </tr>\n",
       "    <tr>\n",
       "      <th>5568</th>\n",
       "      <td>0</td>\n",
       "      <td>Will Ì_ b going to esplanade fr home?</td>\n",
       "    </tr>\n",
       "    <tr>\n",
       "      <th>5569</th>\n",
       "      <td>0</td>\n",
       "      <td>Pity, * was in mood for that. So...any other s...</td>\n",
       "    </tr>\n",
       "    <tr>\n",
       "      <th>5570</th>\n",
       "      <td>0</td>\n",
       "      <td>The guy did some bitching but I acted like i'd...</td>\n",
       "    </tr>\n",
       "    <tr>\n",
       "      <th>5571</th>\n",
       "      <td>0</td>\n",
       "      <td>Rofl. Its true to its name</td>\n",
       "    </tr>\n",
       "  </tbody>\n",
       "</table>\n",
       "<p>5169 rows × 2 columns</p>\n",
       "</div>"
      ],
      "text/plain": [
       "      Class                                                SMS\n",
       "0         0  Go until jurong point, crazy.. Available only ...\n",
       "1         0                      Ok lar... Joking wif u oni...\n",
       "2         1  Free entry in 2 a wkly comp to win FA Cup fina...\n",
       "3         0  U dun say so early hor... U c already then say...\n",
       "4         0  Nah I don't think he goes to usf, he lives aro...\n",
       "...     ...                                                ...\n",
       "5567      1  This is the 2nd time we have tried 2 contact u...\n",
       "5568      0              Will Ì_ b going to esplanade fr home?\n",
       "5569      0  Pity, * was in mood for that. So...any other s...\n",
       "5570      0  The guy did some bitching but I acted like i'd...\n",
       "5571      0                         Rofl. Its true to its name\n",
       "\n",
       "[5169 rows x 2 columns]"
      ]
     },
     "execution_count": 220,
     "metadata": {},
     "output_type": "execute_result"
    }
   ],
   "source": [
    "df"
   ]
  },
  {
   "cell_type": "code",
   "execution_count": 221,
   "id": "79e1556b",
   "metadata": {
    "id": "79e1556b"
   },
   "outputs": [],
   "source": [
    "import matplotlib.pyplot as plt"
   ]
  },
  {
   "cell_type": "code",
   "execution_count": 222,
   "id": "98e533df",
   "metadata": {
    "colab": {
     "base_uri": "https://localhost:8080/",
     "height": 406
    },
    "id": "98e533df",
    "outputId": "8684349a-07c1-48e4-9a53-7925ecd4c0cb"
   },
   "outputs": [
    {
     "data": {
      "image/png": "[encoded data removed]",
      "text/plain": [
       "<Figure size 432x288 with 1 Axes>"
      ]
     },
     "metadata": {},
     "output_type": "display_data"
    }
   ],
   "source": [
    "plt.pie(df['Class'].value_counts(),labels=['not spam','spam'],autopct='%1.1f%%')\n",
    "plt.show()"
   ]
  },
  {
   "cell_type": "markdown",
   "id": "bd8d8c14",
   "metadata": {
    "id": "bd8d8c14"
   },
   "source": [
    "So data is not symmetrically distributed"
   ]
  },
  {
   "cell_type": "markdown",
   "id": "c0d11050",
   "metadata": {
    "id": "c0d11050"
   },
   "source": [
    "# Text Preprocessing"
   ]
  },
  {
   "cell_type": "markdown",
   "id": "d40c3b89",
   "metadata": {
    "id": "d40c3b89"
   },
   "source": [
    "###### Lowercasing"
   ]
  },
  {
   "cell_type": "markdown",
   "id": "cdf12eb1",
   "metadata": {
    "id": "cdf12eb1"
   },
   "source": [
    "So as we can see there are lot's of unusual characters present so we have to remove those"
   ]
  },
  {
   "cell_type": "code",
   "execution_count": 223,
   "id": "5qPNeqO5QkwL",
   "metadata": {
    "id": "5qPNeqO5QkwL"
   },
   "outputs": [],
   "source": [
    "import nltk\n",
    "from nltk.tokenize import word_tokenize"
   ]
  },
  {
   "cell_type": "code",
   "execution_count": 224,
   "id": "SFOcERfjQkuF",
   "metadata": {
    "id": "SFOcERfjQkuF"
   },
   "outputs": [],
   "source": [
    "import re"
   ]
  },
  {
   "cell_type": "code",
   "execution_count": 225,
   "id": "w6m2wBqsQkpG",
   "metadata": {
    "id": "w6m2wBqsQkpG"
   },
   "outputs": [],
   "source": [
    "chatwords={\n",
    "    \"AFAIK\": \"As Far As I Know\",\n",
    "    \"ASAP\": \"As Soon As Possible\",\n",
    "    \"BRB\": \"Be Right Back\",\n",
    "    \"BTW\": \"By The Way\",\n",
    "    \"DM\": \"Direct Message\",\n",
    "    \"FOMO\": \"Fear of Missing Out\",\n",
    "    \"FYI\": \"For Your Information\",\n",
    "    \"GG\": \"Good Game\",\n",
    "    \"GN\":\"good night\",\n",
    "    \"GR8\": \"Great\",\n",
    "    \"GTG\": \"Got To Go\",\n",
    "    \"HBD\": \"Happy Birthday\",\n",
    "    \"ICYMI\": \"In Case You Missed It\",\n",
    "    \"IDK\": \"I Don't Know\",\n",
    "    \"IMO\": \"In My Opinion\",\n",
    "    \"JK\": \"Just Kidding\",\n",
    "    \"LOL\": \"Laughing Out Loud\",\n",
    "    \"LMK\": \"Let Me Know\",\n",
    "    \"NP\": \"No Problem\",\n",
    "    \"NVM\": \"Never Mind\",\n",
    "    \"OMG\": \"Oh My God\",\n",
    "    \"ROFL\": \"Rolling On the Floor Laughing\",\n",
    "    \"TTYL\": \"Talk To You Later\",\n",
    "    \"TYT\": \"Take Your Time\",\n",
    "    \"WYD\": \"What You Doing\",\n",
    "    \"YOLO\": \"You Only Live Once\",\n",
    "    \"YT\": \"YouTube\",\n",
    "    \"404\": \"Not Found (Internet Error)\",\n",
    "    \"IMHO\": \"In My Humble Opinion\",\n",
    "    \"LMAO\": \"Laughing My Ass Off\",\n",
    "    \"BFF\": \"Best Friends Forever\"\n",
    "}"
   ]
  },
  {
   "cell_type": "code",
   "execution_count": 226,
   "id": "dYZzWDUoQknM",
   "metadata": {
    "id": "dYZzWDUoQknM"
   },
   "outputs": [],
   "source": [
    "import nltk\n",
    "from nltk.corpus import stopwords"
   ]
  },
  {
   "cell_type": "code",
   "execution_count": 227,
   "id": "PcT7KJEhQkkV",
   "metadata": {
    "id": "PcT7KJEhQkkV"
   },
   "outputs": [],
   "source": [
    "from nltk.stem.snowball import SnowballStemmer\n",
    "snowball_stemmer=SnowballStemmer(language='english')\n"
   ]
  },
  {
   "cell_type": "code",
   "execution_count": 228,
   "id": "af4471d2",
   "metadata": {},
   "outputs": [
    {
     "data": {
      "text/plain": [
       "'love'"
      ]
     },
     "execution_count": 228,
     "metadata": {},
     "output_type": "execute_result"
    }
   ],
   "source": [
    "snowball_stemmer.stem('loving')"
   ]
  },
  {
   "cell_type": "code",
   "execution_count": 229,
   "id": "q9VXUGoeNu1K",
   "metadata": {
    "id": "q9VXUGoeNu1K"
   },
   "outputs": [],
   "source": [
    "#from nltk.stem.porter import PorterStemmer#\n",
    "#port_stemmer=PorterStemmer()\n"
   ]
  },
  {
   "cell_type": "code",
   "execution_count": 230,
   "id": "JbsaDG4CKTXu",
   "metadata": {
    "colab": {
     "base_uri": "https://localhost:8080/"
    },
    "id": "JbsaDG4CKTXu",
    "outputId": "68591183-aaf9-4a84-e60f-f213e31e07fe"
   },
   "outputs": [
    {
     "name": "stderr",
     "output_type": "stream",
     "text": [
      "[nltk_data] Downloading package punkt to\n",
      "[nltk_data]     C:\\Users\\lenovo\\AppData\\Roaming\\nltk_data...\n",
      "[nltk_data]   Package punkt is already up-to-date!\n"
     ]
    }
   ],
   "source": [
    "import nltk\n",
    "nltk.download('punkt')\n",
    "import string\n",
    "punct=string.punctuation"
   ]
  },
  {
   "cell_type": "code",
   "execution_count": 231,
   "id": "kfbgwJdfLLOz",
   "metadata": {
    "colab": {
     "base_uri": "https://localhost:8080/"
    },
    "id": "kfbgwJdfLLOz",
    "outputId": "434d1141-81b1-46d9-c349-69f542b9eef8"
   },
   "outputs": [
    {
     "name": "stderr",
     "output_type": "stream",
     "text": [
      "[nltk_data] Downloading package stopwords to\n",
      "[nltk_data]     C:\\Users\\lenovo\\AppData\\Roaming\\nltk_data...\n",
      "[nltk_data]   Package stopwords is already up-to-date!\n"
     ]
    }
   ],
   "source": [
    "import nltk\n",
    "nltk.download('stopwords')\n",
    "from nltk.corpus import stopwords"
   ]
  },
  {
   "cell_type": "code",
   "execution_count": 232,
   "id": "8qlypCvVMo42",
   "metadata": {
    "id": "8qlypCvVMo42"
   },
   "outputs": [
    {
     "data": {
      "text/plain": [
       "'ddgc shidc vvf'"
      ]
     },
     "execution_count": 232,
     "metadata": {},
     "output_type": "execute_result"
    }
   ],
   "source": [
    "'ddgc sHIDC vvf'.lower()"
   ]
  },
  {
   "cell_type": "code",
   "execution_count": 233,
   "id": "6rRGICZ4Qkio",
   "metadata": {
    "id": "6rRGICZ4Qkio"
   },
   "outputs": [],
   "source": [
    "df['SMS']=df['SMS'].str.lower()\n",
    "def transformation(text):\n",
    "    text = nltk.word_tokenize(text)\n",
    "\n",
    "    a=[]\n",
    "    for i in text:\n",
    "        if i not in punct:\n",
    "            a.append(i)\n",
    "    text = a[:]\n",
    "    b=[]\n",
    "    for w in text:\n",
    "        if w.upper() in chatwords:\n",
    "            b.append(chatwords[w.upper()])\n",
    "        else:\n",
    "            b.append(w)\n",
    "    text=b[:]\n",
    "    c=[]\n",
    "    for i in text:\n",
    "        if i not in stopwords.words('english'):\n",
    "            c.append(i)\n",
    "    text=c[:]\n",
    "    d=[]\n",
    "    for w in text:\n",
    "        d.append(snowball_stemmer.stem(w))\n",
    "    text=d[:]\n",
    "    e=[]\n",
    "    for i in text:\n",
    "        e.append(i.lower())\n",
    "    text=e[:]\n",
    "    return \" \".join(e)\n",
    "\n",
    "\n",
    "\n",
    "\n"
   ]
  },
  {
   "cell_type": "code",
   "execution_count": 234,
   "id": "ug9RrGWKQkf8",
   "metadata": {
    "id": "ug9RrGWKQkf8"
   },
   "outputs": [],
   "source": [
    "df['transformed_SMS']=df['SMS'].apply(transformation)"
   ]
  },
  {
   "cell_type": "code",
   "execution_count": 235,
   "id": "819548d6",
   "metadata": {},
   "outputs": [
    {
     "data": {
      "text/plain": [
       "'love youtub lectur wbu'"
      ]
     },
     "execution_count": 235,
     "metadata": {},
     "output_type": "execute_result"
    }
   ],
   "source": [
    "transformation('i loved the youtube lecture wbu')"
   ]
  },
  {
   "cell_type": "code",
   "execution_count": 236,
   "id": "7HhhUf6WQkds",
   "metadata": {
    "colab": {
     "base_uri": "https://localhost:8080/",
     "height": 423
    },
    "id": "7HhhUf6WQkds",
    "outputId": "cdfe33ff-2fc0-4700-8d42-42f3b01f2f35"
   },
   "outputs": [
    {
     "data": {
      "text/html": [
       "<div>\n",
       "<style scoped>\n",
       "    .dataframe tbody tr th:only-of-type {\n",
       "        vertical-align: middle;\n",
       "    }\n",
       "\n",
       "    .dataframe tbody tr th {\n",
       "        vertical-align: top;\n",
       "    }\n",
       "\n",
       "    .dataframe thead th {\n",
       "        text-align: right;\n",
       "    }\n",
       "</style>\n",
       "<table border=\"1\" class=\"dataframe\">\n",
       "  <thead>\n",
       "    <tr style=\"text-align: right;\">\n",
       "      <th></th>\n",
       "      <th>Class</th>\n",
       "      <th>SMS</th>\n",
       "      <th>transformed_SMS</th>\n",
       "    </tr>\n",
       "  </thead>\n",
       "  <tbody>\n",
       "    <tr>\n",
       "      <th>0</th>\n",
       "      <td>0</td>\n",
       "      <td>go until jurong point, crazy.. available only ...</td>\n",
       "      <td>go jurong point crazi .. avail bugi n great wo...</td>\n",
       "    </tr>\n",
       "    <tr>\n",
       "      <th>1</th>\n",
       "      <td>0</td>\n",
       "      <td>ok lar... joking wif u oni...</td>\n",
       "      <td>ok lar ... joke wif u oni ...</td>\n",
       "    </tr>\n",
       "    <tr>\n",
       "      <th>2</th>\n",
       "      <td>1</td>\n",
       "      <td>free entry in 2 a wkly comp to win fa cup fina...</td>\n",
       "      <td>free entri 2 wkli comp win fa cup final tkts 2...</td>\n",
       "    </tr>\n",
       "    <tr>\n",
       "      <th>3</th>\n",
       "      <td>0</td>\n",
       "      <td>u dun say so early hor... u c already then say...</td>\n",
       "      <td>u dun say earli hor ... u c alreadi say ...</td>\n",
       "    </tr>\n",
       "    <tr>\n",
       "      <th>4</th>\n",
       "      <td>0</td>\n",
       "      <td>nah i don't think he goes to usf, he lives aro...</td>\n",
       "      <td>nah n't think goe usf live around though</td>\n",
       "    </tr>\n",
       "    <tr>\n",
       "      <th>...</th>\n",
       "      <td>...</td>\n",
       "      <td>...</td>\n",
       "      <td>...</td>\n",
       "    </tr>\n",
       "    <tr>\n",
       "      <th>5567</th>\n",
       "      <td>1</td>\n",
       "      <td>this is the 2nd time we have tried 2 contact u...</td>\n",
       "      <td>2nd time tri 2 contact u. u å£750 pound prize ...</td>\n",
       "    </tr>\n",
       "    <tr>\n",
       "      <th>5568</th>\n",
       "      <td>0</td>\n",
       "      <td>will ì_ b going to esplanade fr home?</td>\n",
       "      <td>ì_ b go esplanad fr home</td>\n",
       "    </tr>\n",
       "    <tr>\n",
       "      <th>5569</th>\n",
       "      <td>0</td>\n",
       "      <td>pity, * was in mood for that. so...any other s...</td>\n",
       "      <td>piti mood ... suggest</td>\n",
       "    </tr>\n",
       "    <tr>\n",
       "      <th>5570</th>\n",
       "      <td>0</td>\n",
       "      <td>the guy did some bitching but i acted like i'd...</td>\n",
       "      <td>guy bitch act like 'd interest buy someth els ...</td>\n",
       "    </tr>\n",
       "    <tr>\n",
       "      <th>5571</th>\n",
       "      <td>0</td>\n",
       "      <td>rofl. its true to its name</td>\n",
       "      <td>rolling on the floor laugh true name</td>\n",
       "    </tr>\n",
       "  </tbody>\n",
       "</table>\n",
       "<p>5169 rows × 3 columns</p>\n",
       "</div>"
      ],
      "text/plain": [
       "      Class                                                SMS  \\\n",
       "0         0  go until jurong point, crazy.. available only ...   \n",
       "1         0                      ok lar... joking wif u oni...   \n",
       "2         1  free entry in 2 a wkly comp to win fa cup fina...   \n",
       "3         0  u dun say so early hor... u c already then say...   \n",
       "4         0  nah i don't think he goes to usf, he lives aro...   \n",
       "...     ...                                                ...   \n",
       "5567      1  this is the 2nd time we have tried 2 contact u...   \n",
       "5568      0              will ì_ b going to esplanade fr home?   \n",
       "5569      0  pity, * was in mood for that. so...any other s...   \n",
       "5570      0  the guy did some bitching but i acted like i'd...   \n",
       "5571      0                         rofl. its true to its name   \n",
       "\n",
       "                                        transformed_SMS  \n",
       "0     go jurong point crazi .. avail bugi n great wo...  \n",
       "1                         ok lar ... joke wif u oni ...  \n",
       "2     free entri 2 wkli comp win fa cup final tkts 2...  \n",
       "3           u dun say earli hor ... u c alreadi say ...  \n",
       "4              nah n't think goe usf live around though  \n",
       "...                                                 ...  \n",
       "5567  2nd time tri 2 contact u. u å£750 pound prize ...  \n",
       "5568                           ì_ b go esplanad fr home  \n",
       "5569                              piti mood ... suggest  \n",
       "5570  guy bitch act like 'd interest buy someth els ...  \n",
       "5571               rolling on the floor laugh true name  \n",
       "\n",
       "[5169 rows x 3 columns]"
      ]
     },
     "execution_count": 236,
     "metadata": {},
     "output_type": "execute_result"
    }
   ],
   "source": [
    "df"
   ]
  },
  {
   "cell_type": "markdown",
   "id": "53606b25",
   "metadata": {
    "id": "53606b25"
   },
   "source": [
    "Preprocessing is done now"
   ]
  },
  {
   "cell_type": "code",
   "execution_count": 237,
   "id": "e8143862",
   "metadata": {
    "id": "e8143862"
   },
   "outputs": [],
   "source": [
    "scorp=[]\n",
    "for text in df[df['Class']==1]['transformed_SMS']:\n",
    "    for i in text.split():\n",
    "        scorp.append(i)"
   ]
  },
  {
   "cell_type": "code",
   "execution_count": 238,
   "id": "217bff25",
   "metadata": {
    "colab": {
     "base_uri": "https://localhost:8080/"
    },
    "id": "217bff25",
    "outputId": "7b57f74d-3841-47e9-e0f4-e1a4dd241d1f"
   },
   "outputs": [
    {
     "data": {
      "text/plain": [
       "11101"
      ]
     },
     "execution_count": 238,
     "metadata": {},
     "output_type": "execute_result"
    }
   ],
   "source": [
    "len(scorp)"
   ]
  },
  {
   "cell_type": "markdown",
   "id": "1f23b830",
   "metadata": {
    "id": "1f23b830"
   },
   "source": [
    "now corp contain all the words from all spam msgs\n",
    "lets try to find out most common spam words"
   ]
  },
  {
   "cell_type": "markdown",
   "id": "f980a817",
   "metadata": {
    "id": "f980a817"
   },
   "source": [
    "## EDA"
   ]
  },
  {
   "cell_type": "code",
   "execution_count": 239,
   "id": "f805dfcd",
   "metadata": {
    "id": "f805dfcd"
   },
   "outputs": [],
   "source": [
    "from collections import Counter"
   ]
  },
  {
   "cell_type": "code",
   "execution_count": 240,
   "id": "a29edc1c",
   "metadata": {
    "colab": {
     "base_uri": "https://localhost:8080/",
     "height": 676
    },
    "id": "a29edc1c",
    "outputId": "bd5dd40d-911a-43dc-9ab7-1f66942d749c"
   },
   "outputs": [
    {
     "data": {
      "text/html": [
       "<div>\n",
       "<style scoped>\n",
       "    .dataframe tbody tr th:only-of-type {\n",
       "        vertical-align: middle;\n",
       "    }\n",
       "\n",
       "    .dataframe tbody tr th {\n",
       "        vertical-align: top;\n",
       "    }\n",
       "\n",
       "    .dataframe thead th {\n",
       "        text-align: right;\n",
       "    }\n",
       "</style>\n",
       "<table border=\"1\" class=\"dataframe\">\n",
       "  <thead>\n",
       "    <tr style=\"text-align: right;\">\n",
       "      <th></th>\n",
       "      <th>0</th>\n",
       "      <th>1</th>\n",
       "    </tr>\n",
       "  </thead>\n",
       "  <tbody>\n",
       "    <tr>\n",
       "      <th>0</th>\n",
       "      <td>call</td>\n",
       "      <td>320</td>\n",
       "    </tr>\n",
       "    <tr>\n",
       "      <th>1</th>\n",
       "      <td>free</td>\n",
       "      <td>191</td>\n",
       "    </tr>\n",
       "    <tr>\n",
       "      <th>2</th>\n",
       "      <td>2</td>\n",
       "      <td>155</td>\n",
       "    </tr>\n",
       "    <tr>\n",
       "      <th>3</th>\n",
       "      <td>txt</td>\n",
       "      <td>130</td>\n",
       "    </tr>\n",
       "    <tr>\n",
       "      <th>4</th>\n",
       "      <td>text</td>\n",
       "      <td>122</td>\n",
       "    </tr>\n",
       "    <tr>\n",
       "      <th>5</th>\n",
       "      <td>u</td>\n",
       "      <td>119</td>\n",
       "    </tr>\n",
       "    <tr>\n",
       "      <th>6</th>\n",
       "      <td>ur</td>\n",
       "      <td>119</td>\n",
       "    </tr>\n",
       "    <tr>\n",
       "      <th>7</th>\n",
       "      <td>mobil</td>\n",
       "      <td>114</td>\n",
       "    </tr>\n",
       "    <tr>\n",
       "      <th>8</th>\n",
       "      <td>stop</td>\n",
       "      <td>104</td>\n",
       "    </tr>\n",
       "    <tr>\n",
       "      <th>9</th>\n",
       "      <td>repli</td>\n",
       "      <td>103</td>\n",
       "    </tr>\n",
       "    <tr>\n",
       "      <th>10</th>\n",
       "      <td>claim</td>\n",
       "      <td>98</td>\n",
       "    </tr>\n",
       "    <tr>\n",
       "      <th>11</th>\n",
       "      <td>4</td>\n",
       "      <td>97</td>\n",
       "    </tr>\n",
       "    <tr>\n",
       "      <th>12</th>\n",
       "      <td>prize</td>\n",
       "      <td>82</td>\n",
       "    </tr>\n",
       "    <tr>\n",
       "      <th>13</th>\n",
       "      <td>get</td>\n",
       "      <td>74</td>\n",
       "    </tr>\n",
       "    <tr>\n",
       "      <th>14</th>\n",
       "      <td>week</td>\n",
       "      <td>69</td>\n",
       "    </tr>\n",
       "    <tr>\n",
       "      <th>15</th>\n",
       "      <td>new</td>\n",
       "      <td>64</td>\n",
       "    </tr>\n",
       "    <tr>\n",
       "      <th>16</th>\n",
       "      <td>servic</td>\n",
       "      <td>64</td>\n",
       "    </tr>\n",
       "    <tr>\n",
       "      <th>17</th>\n",
       "      <td>tone</td>\n",
       "      <td>63</td>\n",
       "    </tr>\n",
       "    <tr>\n",
       "      <th>18</th>\n",
       "      <td>send</td>\n",
       "      <td>60</td>\n",
       "    </tr>\n",
       "    <tr>\n",
       "      <th>19</th>\n",
       "      <td>'s</td>\n",
       "      <td>59</td>\n",
       "    </tr>\n",
       "  </tbody>\n",
       "</table>\n",
       "</div>"
      ],
      "text/plain": [
       "         0    1\n",
       "0     call  320\n",
       "1     free  191\n",
       "2        2  155\n",
       "3      txt  130\n",
       "4     text  122\n",
       "5        u  119\n",
       "6       ur  119\n",
       "7    mobil  114\n",
       "8     stop  104\n",
       "9    repli  103\n",
       "10   claim   98\n",
       "11       4   97\n",
       "12   prize   82\n",
       "13     get   74\n",
       "14    week   69\n",
       "15     new   64\n",
       "16  servic   64\n",
       "17    tone   63\n",
       "18    send   60\n",
       "19      's   59"
      ]
     },
     "execution_count": 240,
     "metadata": {},
     "output_type": "execute_result"
    }
   ],
   "source": [
    "spam_df=pd.DataFrame(Counter(scorp).most_common(20))\n",
    "spam_df"
   ]
  },
  {
   "cell_type": "code",
   "execution_count": 241,
   "id": "7609b89c",
   "metadata": {
    "id": "7609b89c"
   },
   "outputs": [],
   "source": [
    "import seaborn as sns"
   ]
  },
  {
   "cell_type": "code",
   "execution_count": 242,
   "id": "75067b75",
   "metadata": {
    "colab": {
     "base_uri": "https://localhost:8080/",
     "height": 477
    },
    "id": "75067b75",
    "outputId": "0a056d80-afc8-49a4-a266-18ab91a24d09"
   },
   "outputs": [
    {
     "data": {
      "image/png": "[encoded data removed]",
      "text/plain": [
       "<Figure size 432x288 with 1 Axes>"
      ]
     },
     "metadata": {
      "needs_background": "light"
     },
     "output_type": "display_data"
    }
   ],
   "source": [
    "sns.barplot(data=spam_df,x=spam_df[0],y=spam_df[1])\n",
    "plt.xticks(rotation='vertical')\n",
    "plt.show()"
   ]
  },
  {
   "cell_type": "markdown",
   "id": "69aa59ca",
   "metadata": {
    "id": "69aa59ca"
   },
   "source": [
    "from above barplot you can guess most commanly used words in spam msgs"
   ]
  },
  {
   "cell_type": "code",
   "execution_count": null,
   "id": "83a90859",
   "metadata": {
    "id": "83a90859"
   },
   "outputs": [],
   "source": []
  },
  {
   "cell_type": "code",
   "execution_count": 243,
   "id": "e017ce94",
   "metadata": {
    "colab": {
     "base_uri": "https://localhost:8080/"
    },
    "id": "e017ce94",
    "outputId": "7c495262-5756-49db-92ef-59f6f8df3771"
   },
   "outputs": [
    {
     "data": {
      "text/plain": [
       "['go',\n",
       " 'until',\n",
       " 'jurong',\n",
       " 'point,',\n",
       " 'crazy..',\n",
       " 'available',\n",
       " 'only',\n",
       " 'in',\n",
       " 'bugis',\n",
       " 'n',\n",
       " 'great',\n",
       " 'world',\n",
       " 'la',\n",
       " 'e',\n",
       " 'buffet...',\n",
       " 'cine',\n",
       " 'there',\n",
       " 'got',\n",
       " 'amore',\n",
       " 'wat...',\n",
       " 'ok',\n",
       " 'lar...',\n",
       " 'joking',\n",
       " 'wif',\n",
       " 'u',\n",
       " 'oni...',\n",
       " 'u',\n",
       " 'dun',\n",
       " 'say',\n",
       " 'so',\n",
       " 'early',\n",
       " 'hor...',\n",
       " 'u',\n",
       " 'c',\n",
       " 'already',\n",
       " 'then',\n",
       " 'say...',\n",
       " 'nah',\n",
       " 'i',\n",
       " \"don't\",\n",
       " 'think',\n",
       " 'he',\n",
       " 'goes',\n",
       " 'to',\n",
       " 'usf,',\n",
       " 'he',\n",
       " 'lives',\n",
       " 'around',\n",
       " 'here',\n",
       " 'though',\n",
       " 'even',\n",
       " 'my',\n",
       " 'brother',\n",
       " 'is',\n",
       " 'not',\n",
       " 'like',\n",
       " 'to',\n",
       " 'speak',\n",
       " 'with',\n",
       " 'me.',\n",
       " 'they',\n",
       " 'treat',\n",
       " 'me',\n",
       " 'like',\n",
       " 'aids',\n",
       " 'patent.',\n",
       " 'as',\n",
       " 'per',\n",
       " 'your',\n",
       " 'request',\n",
       " \"'melle\",\n",
       " 'melle',\n",
       " '(oru',\n",
       " 'minnaminunginte',\n",
       " 'nurungu',\n",
       " \"vettam)'\",\n",
       " 'has',\n",
       " 'been',\n",
       " 'set',\n",
       " 'as',\n",
       " 'your',\n",
       " 'callertune',\n",
       " 'for',\n",
       " 'all',\n",
       " 'callers.',\n",
       " 'press',\n",
       " '*9',\n",
       " 'to',\n",
       " 'copy',\n",
       " 'your',\n",
       " 'friends',\n",
       " 'callertune',\n",
       " \"i'm\",\n",
       " 'gonna',\n",
       " 'be',\n",
       " 'home',\n",
       " 'soon',\n",
       " 'and',\n",
       " 'i',\n",
       " \"don't\",\n",
       " 'want',\n",
       " 'to',\n",
       " 'talk',\n",
       " 'about',\n",
       " 'this',\n",
       " 'stuff',\n",
       " 'anymore',\n",
       " 'tonight,',\n",
       " 'k?',\n",
       " \"i've\",\n",
       " 'cried',\n",
       " 'enough',\n",
       " 'today.',\n",
       " \"i've\",\n",
       " 'been',\n",
       " 'searching',\n",
       " 'for',\n",
       " 'the',\n",
       " 'right',\n",
       " 'words',\n",
       " 'to',\n",
       " 'thank',\n",
       " 'you',\n",
       " 'for',\n",
       " 'this',\n",
       " 'breather.',\n",
       " 'i',\n",
       " 'promise',\n",
       " 'i',\n",
       " 'wont',\n",
       " 'take',\n",
       " 'your',\n",
       " 'help',\n",
       " 'for',\n",
       " 'granted',\n",
       " 'and',\n",
       " 'will',\n",
       " 'fulfil',\n",
       " 'my',\n",
       " 'promise.',\n",
       " 'you',\n",
       " 'have',\n",
       " 'been',\n",
       " 'wonderful',\n",
       " 'and',\n",
       " 'a',\n",
       " 'blessing',\n",
       " 'at',\n",
       " 'all',\n",
       " 'times.',\n",
       " 'i',\n",
       " 'have',\n",
       " 'a',\n",
       " 'date',\n",
       " 'on',\n",
       " 'sunday',\n",
       " 'with',\n",
       " 'will!!',\n",
       " 'oh',\n",
       " \"k...i'm\",\n",
       " 'watching',\n",
       " 'here:)',\n",
       " 'eh',\n",
       " 'u',\n",
       " 'remember',\n",
       " 'how',\n",
       " '2',\n",
       " 'spell',\n",
       " 'his',\n",
       " 'name...',\n",
       " 'yes',\n",
       " 'i',\n",
       " 'did.',\n",
       " 'he',\n",
       " 'v',\n",
       " 'naughty',\n",
       " 'make',\n",
       " 'until',\n",
       " 'i',\n",
       " 'v',\n",
       " 'wet.',\n",
       " 'fine',\n",
       " 'if',\n",
       " 'thatåõs',\n",
       " 'the',\n",
       " 'way',\n",
       " 'u',\n",
       " 'feel.',\n",
       " 'thatåõs',\n",
       " 'the',\n",
       " 'way',\n",
       " 'its',\n",
       " 'gota',\n",
       " 'b',\n",
       " 'is',\n",
       " 'that',\n",
       " 'seriously',\n",
       " 'how',\n",
       " 'you',\n",
       " 'spell',\n",
       " 'his',\n",
       " 'name?',\n",
       " 'i‰û÷m',\n",
       " 'going',\n",
       " 'to',\n",
       " 'try',\n",
       " 'for',\n",
       " '2',\n",
       " 'months',\n",
       " 'ha',\n",
       " 'ha',\n",
       " 'only',\n",
       " 'joking',\n",
       " 'so',\n",
       " 'ì_',\n",
       " 'pay',\n",
       " 'first',\n",
       " 'lar...',\n",
       " 'then',\n",
       " 'when',\n",
       " 'is',\n",
       " 'da',\n",
       " 'stock',\n",
       " 'comin...',\n",
       " 'aft',\n",
       " 'i',\n",
       " 'finish',\n",
       " 'my',\n",
       " 'lunch',\n",
       " 'then',\n",
       " 'i',\n",
       " 'go',\n",
       " 'str',\n",
       " 'down',\n",
       " 'lor.',\n",
       " 'ard',\n",
       " '3',\n",
       " 'smth',\n",
       " 'lor.',\n",
       " 'u',\n",
       " 'finish',\n",
       " 'ur',\n",
       " 'lunch',\n",
       " 'already?',\n",
       " 'ffffffffff.',\n",
       " 'alright',\n",
       " 'no',\n",
       " 'way',\n",
       " 'i',\n",
       " 'can',\n",
       " 'meet',\n",
       " 'up',\n",
       " 'with',\n",
       " 'you',\n",
       " 'sooner?',\n",
       " 'just',\n",
       " 'forced',\n",
       " 'myself',\n",
       " 'to',\n",
       " 'eat',\n",
       " 'a',\n",
       " 'slice.',\n",
       " \"i'm\",\n",
       " 'really',\n",
       " 'not',\n",
       " 'hungry',\n",
       " 'tho.',\n",
       " 'this',\n",
       " 'sucks.',\n",
       " 'mark',\n",
       " 'is',\n",
       " 'getting',\n",
       " 'worried.',\n",
       " 'he',\n",
       " 'knows',\n",
       " \"i'm\",\n",
       " 'sick',\n",
       " 'when',\n",
       " 'i',\n",
       " 'turn',\n",
       " 'down',\n",
       " 'pizza.',\n",
       " 'lol',\n",
       " 'lol',\n",
       " 'your',\n",
       " 'always',\n",
       " 'so',\n",
       " 'convincing.',\n",
       " 'did',\n",
       " 'you',\n",
       " 'catch',\n",
       " 'the',\n",
       " 'bus',\n",
       " '?',\n",
       " 'are',\n",
       " 'you',\n",
       " 'frying',\n",
       " 'an',\n",
       " 'egg',\n",
       " '?',\n",
       " 'did',\n",
       " 'you',\n",
       " 'make',\n",
       " 'a',\n",
       " 'tea?',\n",
       " 'are',\n",
       " 'you',\n",
       " 'eating',\n",
       " 'your',\n",
       " \"mom's\",\n",
       " 'left',\n",
       " 'over',\n",
       " 'dinner',\n",
       " '?',\n",
       " 'do',\n",
       " 'you',\n",
       " 'feel',\n",
       " 'my',\n",
       " 'love',\n",
       " '?',\n",
       " \"i'm\",\n",
       " 'back',\n",
       " '&amp;',\n",
       " \"we're\",\n",
       " 'packing',\n",
       " 'the',\n",
       " 'car',\n",
       " 'now,',\n",
       " \"i'll\",\n",
       " 'let',\n",
       " 'you',\n",
       " 'know',\n",
       " 'if',\n",
       " \"there's\",\n",
       " 'room',\n",
       " 'ahhh.',\n",
       " 'work.',\n",
       " 'i',\n",
       " 'vaguely',\n",
       " 'remember',\n",
       " 'that!',\n",
       " 'what',\n",
       " 'does',\n",
       " 'it',\n",
       " 'feel',\n",
       " 'like?',\n",
       " 'lol',\n",
       " 'wait',\n",
       " \"that's\",\n",
       " 'still',\n",
       " 'not',\n",
       " 'all',\n",
       " 'that',\n",
       " 'clear,',\n",
       " 'were',\n",
       " 'you',\n",
       " 'not',\n",
       " 'sure',\n",
       " 'about',\n",
       " 'me',\n",
       " 'being',\n",
       " 'sarcastic',\n",
       " 'or',\n",
       " 'that',\n",
       " \"that's\",\n",
       " 'why',\n",
       " 'x',\n",
       " \"doesn't\",\n",
       " 'want',\n",
       " 'to',\n",
       " 'live',\n",
       " 'with',\n",
       " 'us',\n",
       " 'yeah',\n",
       " 'he',\n",
       " 'got',\n",
       " 'in',\n",
       " 'at',\n",
       " '2',\n",
       " 'and',\n",
       " 'was',\n",
       " 'v',\n",
       " 'apologetic.',\n",
       " 'n',\n",
       " 'had',\n",
       " 'fallen',\n",
       " 'out',\n",
       " 'and',\n",
       " 'she',\n",
       " 'was',\n",
       " 'actin',\n",
       " 'like',\n",
       " 'spoilt',\n",
       " 'child',\n",
       " 'and',\n",
       " 'he',\n",
       " 'got',\n",
       " 'caught',\n",
       " 'up',\n",
       " 'in',\n",
       " 'that.',\n",
       " 'till',\n",
       " '2!',\n",
       " 'but',\n",
       " 'we',\n",
       " \"won't\",\n",
       " 'go',\n",
       " 'there!',\n",
       " 'not',\n",
       " 'doing',\n",
       " 'too',\n",
       " 'badly',\n",
       " 'cheers.',\n",
       " 'you?',\n",
       " 'k',\n",
       " 'tell',\n",
       " 'me',\n",
       " 'anything',\n",
       " 'about',\n",
       " 'you.',\n",
       " 'for',\n",
       " 'fear',\n",
       " 'of',\n",
       " 'fainting',\n",
       " 'with',\n",
       " 'the',\n",
       " 'of',\n",
       " 'all',\n",
       " 'that',\n",
       " 'housework',\n",
       " 'you',\n",
       " 'just',\n",
       " 'did?',\n",
       " 'quick',\n",
       " 'have',\n",
       " 'a',\n",
       " 'cuppa',\n",
       " 'yup...',\n",
       " 'ok',\n",
       " 'i',\n",
       " 'go',\n",
       " 'home',\n",
       " 'look',\n",
       " 'at',\n",
       " 'the',\n",
       " 'timings',\n",
       " 'then',\n",
       " 'i',\n",
       " 'msg',\n",
       " 'ì_',\n",
       " 'again...',\n",
       " 'xuhui',\n",
       " 'going',\n",
       " 'to',\n",
       " 'learn',\n",
       " 'on',\n",
       " '2nd',\n",
       " 'may',\n",
       " 'too',\n",
       " 'but',\n",
       " 'her',\n",
       " 'lesson',\n",
       " 'is',\n",
       " 'at',\n",
       " '8am',\n",
       " 'oops,',\n",
       " \"i'll\",\n",
       " 'let',\n",
       " 'you',\n",
       " 'know',\n",
       " 'when',\n",
       " 'my',\n",
       " \"roommate's\",\n",
       " 'done',\n",
       " 'i',\n",
       " 'see',\n",
       " 'the',\n",
       " 'letter',\n",
       " 'b',\n",
       " 'on',\n",
       " 'my',\n",
       " 'car',\n",
       " 'anything',\n",
       " 'lor...',\n",
       " 'u',\n",
       " 'decide...',\n",
       " 'hello!',\n",
       " \"how's\",\n",
       " 'you',\n",
       " 'and',\n",
       " 'how',\n",
       " 'did',\n",
       " 'saturday',\n",
       " 'go?',\n",
       " 'i',\n",
       " 'was',\n",
       " 'just',\n",
       " 'texting',\n",
       " 'to',\n",
       " 'see',\n",
       " 'if',\n",
       " \"you'd\",\n",
       " 'decided',\n",
       " 'to',\n",
       " 'do',\n",
       " 'anything',\n",
       " 'tomo.',\n",
       " 'not',\n",
       " 'that',\n",
       " \"i'm\",\n",
       " 'trying',\n",
       " 'to',\n",
       " 'invite',\n",
       " 'myself',\n",
       " 'or',\n",
       " 'anything!',\n",
       " 'pls',\n",
       " 'go',\n",
       " 'ahead',\n",
       " 'with',\n",
       " 'watts.',\n",
       " 'i',\n",
       " 'just',\n",
       " 'wanted',\n",
       " 'to',\n",
       " 'be',\n",
       " 'sure.',\n",
       " 'do',\n",
       " 'have',\n",
       " 'a',\n",
       " 'great',\n",
       " 'weekend.',\n",
       " 'abiola',\n",
       " 'did',\n",
       " 'i',\n",
       " 'forget',\n",
       " 'to',\n",
       " 'tell',\n",
       " 'you',\n",
       " '?',\n",
       " 'i',\n",
       " 'want',\n",
       " 'you',\n",
       " ',',\n",
       " 'i',\n",
       " 'need',\n",
       " 'you,',\n",
       " 'i',\n",
       " 'crave',\n",
       " 'you',\n",
       " '...',\n",
       " 'but',\n",
       " 'most',\n",
       " 'of',\n",
       " 'all',\n",
       " '...',\n",
       " 'i',\n",
       " 'love',\n",
       " 'you',\n",
       " 'my',\n",
       " 'sweet',\n",
       " 'arabian',\n",
       " 'steed',\n",
       " '...',\n",
       " 'mmmmmm',\n",
       " '...',\n",
       " 'yummy',\n",
       " 'who',\n",
       " 'are',\n",
       " 'you',\n",
       " 'seeing?',\n",
       " 'great!',\n",
       " 'i',\n",
       " 'hope',\n",
       " 'you',\n",
       " 'like',\n",
       " 'your',\n",
       " 'man',\n",
       " 'well',\n",
       " 'endowed.',\n",
       " 'i',\n",
       " 'am',\n",
       " '&lt;#&gt;',\n",
       " 'inches...',\n",
       " 'no',\n",
       " 'calls..messages..missed',\n",
       " 'calls',\n",
       " \"didn't\",\n",
       " 'you',\n",
       " 'get',\n",
       " 'hep',\n",
       " 'b',\n",
       " 'immunisation',\n",
       " 'in',\n",
       " 'nigeria.',\n",
       " 'fair',\n",
       " 'enough,',\n",
       " 'anything',\n",
       " 'going',\n",
       " 'on?',\n",
       " 'yeah',\n",
       " 'hopefully,',\n",
       " 'if',\n",
       " 'tyler',\n",
       " \"can't\",\n",
       " 'do',\n",
       " 'it',\n",
       " 'i',\n",
       " 'could',\n",
       " 'maybe',\n",
       " 'ask',\n",
       " 'around',\n",
       " 'a',\n",
       " 'bit',\n",
       " 'u',\n",
       " \"don't\",\n",
       " 'know',\n",
       " 'how',\n",
       " 'stubborn',\n",
       " 'i',\n",
       " 'am.',\n",
       " 'i',\n",
       " \"didn't\",\n",
       " 'even',\n",
       " 'want',\n",
       " 'to',\n",
       " 'go',\n",
       " 'to',\n",
       " 'the',\n",
       " 'hospital.',\n",
       " 'i',\n",
       " 'kept',\n",
       " 'telling',\n",
       " 'mark',\n",
       " \"i'm\",\n",
       " 'not',\n",
       " 'a',\n",
       " 'weak',\n",
       " 'sucker.',\n",
       " 'hospitals',\n",
       " 'are',\n",
       " 'for',\n",
       " 'weak',\n",
       " 'suckers.',\n",
       " 'what',\n",
       " 'you',\n",
       " 'thinked',\n",
       " 'about',\n",
       " 'me.',\n",
       " 'first',\n",
       " 'time',\n",
       " 'you',\n",
       " 'saw',\n",
       " 'me',\n",
       " 'in',\n",
       " 'class.',\n",
       " 'a',\n",
       " 'gram',\n",
       " 'usually',\n",
       " 'runs',\n",
       " 'like',\n",
       " '&lt;#&gt;',\n",
       " ',',\n",
       " 'a',\n",
       " 'half',\n",
       " 'eighth',\n",
       " 'is',\n",
       " 'smarter',\n",
       " 'though',\n",
       " 'and',\n",
       " 'gets',\n",
       " 'you',\n",
       " 'almost',\n",
       " 'a',\n",
       " 'whole',\n",
       " 'second',\n",
       " 'gram',\n",
       " 'for',\n",
       " '&lt;#&gt;',\n",
       " 'k',\n",
       " 'fyi',\n",
       " 'x',\n",
       " 'has',\n",
       " 'a',\n",
       " 'ride',\n",
       " 'early',\n",
       " 'tomorrow',\n",
       " 'morning',\n",
       " 'but',\n",
       " \"he's\",\n",
       " 'crashing',\n",
       " 'at',\n",
       " 'our',\n",
       " 'place',\n",
       " 'tonight',\n",
       " 'wow.',\n",
       " 'i',\n",
       " 'never',\n",
       " 'realized',\n",
       " 'that',\n",
       " 'you',\n",
       " 'were',\n",
       " 'so',\n",
       " 'embarassed',\n",
       " 'by',\n",
       " 'your',\n",
       " 'accomodations.',\n",
       " 'i',\n",
       " 'thought',\n",
       " 'you',\n",
       " 'liked',\n",
       " 'it,',\n",
       " 'since',\n",
       " 'i',\n",
       " 'was',\n",
       " 'doing',\n",
       " 'the',\n",
       " 'best',\n",
       " 'i',\n",
       " 'could',\n",
       " 'and',\n",
       " 'you',\n",
       " 'always',\n",
       " 'seemed',\n",
       " 'so',\n",
       " 'happy',\n",
       " 'about',\n",
       " '\\\\the',\n",
       " 'cave\\\\\".',\n",
       " \"i'm\",\n",
       " 'sorry',\n",
       " 'i',\n",
       " \"didn't\",\n",
       " 'and',\n",
       " \"don't\",\n",
       " 'have',\n",
       " 'more',\n",
       " 'to',\n",
       " 'give.',\n",
       " \"i'm\",\n",
       " 'sorry',\n",
       " 'i',\n",
       " 'offered.',\n",
       " \"i'm\",\n",
       " 'sorry',\n",
       " 'your',\n",
       " 'room',\n",
       " 'was',\n",
       " 'so',\n",
       " 'embarassing.\"',\n",
       " 'do',\n",
       " 'you',\n",
       " 'know',\n",
       " 'what',\n",
       " 'mallika',\n",
       " 'sherawat',\n",
       " 'did',\n",
       " 'yesterday?',\n",
       " 'find',\n",
       " 'out',\n",
       " 'now',\n",
       " '@',\n",
       " '&lt;url&gt;',\n",
       " 'sorry,',\n",
       " \"i'll\",\n",
       " 'call',\n",
       " 'later',\n",
       " 'in',\n",
       " 'meeting.',\n",
       " 'tell',\n",
       " 'where',\n",
       " 'you',\n",
       " 'reached',\n",
       " 'yes..gauti',\n",
       " 'and',\n",
       " 'sehwag',\n",
       " 'out',\n",
       " 'of',\n",
       " 'odi',\n",
       " 'series.',\n",
       " 'your',\n",
       " 'gonna',\n",
       " 'have',\n",
       " 'to',\n",
       " 'pick',\n",
       " 'up',\n",
       " 'a',\n",
       " '$1',\n",
       " 'burger',\n",
       " 'for',\n",
       " 'yourself',\n",
       " 'on',\n",
       " 'your',\n",
       " 'way',\n",
       " 'home.',\n",
       " 'i',\n",
       " \"can't\",\n",
       " 'even',\n",
       " 'move.',\n",
       " 'pain',\n",
       " 'is',\n",
       " 'killing',\n",
       " 'me.',\n",
       " 'ha',\n",
       " 'ha',\n",
       " 'ha',\n",
       " 'good',\n",
       " 'joke.',\n",
       " 'girls',\n",
       " 'are',\n",
       " 'situation',\n",
       " 'seekers.',\n",
       " 'its',\n",
       " 'a',\n",
       " 'part',\n",
       " 'of',\n",
       " 'checking',\n",
       " 'iq',\n",
       " 'sorry',\n",
       " 'my',\n",
       " 'roommates',\n",
       " 'took',\n",
       " 'forever,',\n",
       " 'it',\n",
       " 'ok',\n",
       " 'if',\n",
       " 'i',\n",
       " 'come',\n",
       " 'by',\n",
       " 'now?',\n",
       " 'ok',\n",
       " 'lar',\n",
       " 'i',\n",
       " 'double',\n",
       " 'check',\n",
       " 'wif',\n",
       " 'da',\n",
       " 'hair',\n",
       " 'dresser',\n",
       " 'already',\n",
       " 'he',\n",
       " 'said',\n",
       " 'wun',\n",
       " 'cut',\n",
       " 'v',\n",
       " 'short.',\n",
       " 'he',\n",
       " 'said',\n",
       " 'will',\n",
       " 'cut',\n",
       " 'until',\n",
       " 'i',\n",
       " 'look',\n",
       " 'nice.',\n",
       " 'today',\n",
       " 'is',\n",
       " '\\\\song',\n",
       " 'dedicated',\n",
       " 'day..\\\\\"',\n",
       " 'which',\n",
       " 'song',\n",
       " 'will',\n",
       " 'u',\n",
       " 'dedicate',\n",
       " 'for',\n",
       " 'me?',\n",
       " 'send',\n",
       " 'this',\n",
       " 'to',\n",
       " 'all',\n",
       " 'ur',\n",
       " 'valuable',\n",
       " 'frnds',\n",
       " 'but',\n",
       " 'first',\n",
       " 'rply',\n",
       " 'me...\"',\n",
       " 'i',\n",
       " 'plane',\n",
       " 'to',\n",
       " 'give',\n",
       " 'on',\n",
       " 'this',\n",
       " 'month',\n",
       " 'end.',\n",
       " 'wah',\n",
       " 'lucky',\n",
       " 'man...',\n",
       " 'then',\n",
       " 'can',\n",
       " 'save',\n",
       " 'money...',\n",
       " 'hee...',\n",
       " 'finished',\n",
       " 'class',\n",
       " 'where',\n",
       " 'are',\n",
       " 'you.',\n",
       " 'hi',\n",
       " 'babe',\n",
       " 'im',\n",
       " 'at',\n",
       " 'home',\n",
       " 'now',\n",
       " 'wanna',\n",
       " 'do',\n",
       " 'something?',\n",
       " 'xx',\n",
       " 'k..k:)where',\n",
       " 'are',\n",
       " 'you?how',\n",
       " 'did',\n",
       " 'you',\n",
       " 'performed?',\n",
       " 'u',\n",
       " 'can',\n",
       " 'call',\n",
       " 'me',\n",
       " 'now...',\n",
       " 'i',\n",
       " 'am',\n",
       " 'waiting',\n",
       " 'machan.',\n",
       " 'call',\n",
       " 'me',\n",
       " 'once',\n",
       " 'you',\n",
       " 'free.',\n",
       " 'thats',\n",
       " 'cool.',\n",
       " 'i',\n",
       " 'am',\n",
       " 'a',\n",
       " 'gentleman',\n",
       " 'and',\n",
       " 'will',\n",
       " 'treat',\n",
       " 'you',\n",
       " 'with',\n",
       " 'dignity',\n",
       " 'and',\n",
       " 'respect.',\n",
       " 'i',\n",
       " 'like',\n",
       " 'you',\n",
       " 'peoples',\n",
       " 'very',\n",
       " 'much:)',\n",
       " 'but',\n",
       " 'am',\n",
       " 'very',\n",
       " 'shy',\n",
       " 'pa.',\n",
       " 'does',\n",
       " 'not',\n",
       " 'operate',\n",
       " 'after',\n",
       " '&lt;#&gt;',\n",
       " 'or',\n",
       " 'what',\n",
       " 'its',\n",
       " 'not',\n",
       " 'the',\n",
       " 'same',\n",
       " 'here.',\n",
       " 'still',\n",
       " 'looking',\n",
       " 'for',\n",
       " 'a',\n",
       " 'job.',\n",
       " 'how',\n",
       " 'much',\n",
       " 'do',\n",
       " \"ta's\",\n",
       " 'earn',\n",
       " 'there.',\n",
       " 'sorry,',\n",
       " \"i'll\",\n",
       " 'call',\n",
       " 'later',\n",
       " 'k.',\n",
       " 'did',\n",
       " 'you',\n",
       " 'call',\n",
       " 'me',\n",
       " 'just',\n",
       " 'now',\n",
       " 'ah?',\n",
       " 'ok',\n",
       " 'i',\n",
       " 'am',\n",
       " 'on',\n",
       " 'the',\n",
       " 'way',\n",
       " 'to',\n",
       " 'home',\n",
       " 'hi',\n",
       " 'hi',\n",
       " 'you',\n",
       " 'will',\n",
       " ...]"
      ]
     },
     "execution_count": 243,
     "metadata": {},
     "output_type": "execute_result"
    }
   ],
   "source": [
    "ns_corpus=[]\n",
    "for text in df[df['Class']==0]['SMS']:\n",
    "    for i in text.split():\n",
    "        ns_corpus.append(i)\n",
    "\n",
    "ns_corpus\n"
   ]
  },
  {
   "cell_type": "code",
   "execution_count": 244,
   "id": "bdef2b41",
   "metadata": {
    "colab": {
     "base_uri": "https://localhost:8080/",
     "height": 676
    },
    "id": "bdef2b41",
    "outputId": "9a1f0a01-70b4-4ea3-90e5-158b2a63f42a"
   },
   "outputs": [
    {
     "data": {
      "text/html": [
       "<div>\n",
       "<style scoped>\n",
       "    .dataframe tbody tr th:only-of-type {\n",
       "        vertical-align: middle;\n",
       "    }\n",
       "\n",
       "    .dataframe tbody tr th {\n",
       "        vertical-align: top;\n",
       "    }\n",
       "\n",
       "    .dataframe thead th {\n",
       "        text-align: right;\n",
       "    }\n",
       "</style>\n",
       "<table border=\"1\" class=\"dataframe\">\n",
       "  <thead>\n",
       "    <tr style=\"text-align: right;\">\n",
       "      <th></th>\n",
       "      <th>0</th>\n",
       "      <th>1</th>\n",
       "    </tr>\n",
       "  </thead>\n",
       "  <tbody>\n",
       "    <tr>\n",
       "      <th>0</th>\n",
       "      <td>i</td>\n",
       "      <td>2063</td>\n",
       "    </tr>\n",
       "    <tr>\n",
       "      <th>1</th>\n",
       "      <td>you</td>\n",
       "      <td>1606</td>\n",
       "    </tr>\n",
       "    <tr>\n",
       "      <th>2</th>\n",
       "      <td>to</td>\n",
       "      <td>1464</td>\n",
       "    </tr>\n",
       "    <tr>\n",
       "      <th>3</th>\n",
       "      <td>the</td>\n",
       "      <td>1042</td>\n",
       "    </tr>\n",
       "    <tr>\n",
       "      <th>4</th>\n",
       "      <td>a</td>\n",
       "      <td>953</td>\n",
       "    </tr>\n",
       "    <tr>\n",
       "      <th>5</th>\n",
       "      <td>and</td>\n",
       "      <td>815</td>\n",
       "    </tr>\n",
       "    <tr>\n",
       "      <th>6</th>\n",
       "      <td>u</td>\n",
       "      <td>794</td>\n",
       "    </tr>\n",
       "    <tr>\n",
       "      <th>7</th>\n",
       "      <td>in</td>\n",
       "      <td>726</td>\n",
       "    </tr>\n",
       "    <tr>\n",
       "      <th>8</th>\n",
       "      <td>my</td>\n",
       "      <td>666</td>\n",
       "    </tr>\n",
       "    <tr>\n",
       "      <th>9</th>\n",
       "      <td>is</td>\n",
       "      <td>628</td>\n",
       "    </tr>\n",
       "    <tr>\n",
       "      <th>10</th>\n",
       "      <td>me</td>\n",
       "      <td>559</td>\n",
       "    </tr>\n",
       "    <tr>\n",
       "      <th>11</th>\n",
       "      <td>for</td>\n",
       "      <td>471</td>\n",
       "    </tr>\n",
       "    <tr>\n",
       "      <th>12</th>\n",
       "      <td>of</td>\n",
       "      <td>471</td>\n",
       "    </tr>\n",
       "    <tr>\n",
       "      <th>13</th>\n",
       "      <td>that</td>\n",
       "      <td>430</td>\n",
       "    </tr>\n",
       "    <tr>\n",
       "      <th>14</th>\n",
       "      <td>it</td>\n",
       "      <td>418</td>\n",
       "    </tr>\n",
       "    <tr>\n",
       "      <th>15</th>\n",
       "      <td>have</td>\n",
       "      <td>417</td>\n",
       "    </tr>\n",
       "    <tr>\n",
       "      <th>16</th>\n",
       "      <td>but</td>\n",
       "      <td>395</td>\n",
       "    </tr>\n",
       "    <tr>\n",
       "      <th>17</th>\n",
       "      <td>are</td>\n",
       "      <td>388</td>\n",
       "    </tr>\n",
       "    <tr>\n",
       "      <th>18</th>\n",
       "      <td>so</td>\n",
       "      <td>387</td>\n",
       "    </tr>\n",
       "    <tr>\n",
       "      <th>19</th>\n",
       "      <td>your</td>\n",
       "      <td>377</td>\n",
       "    </tr>\n",
       "  </tbody>\n",
       "</table>\n",
       "</div>"
      ],
      "text/plain": [
       "       0     1\n",
       "0      i  2063\n",
       "1    you  1606\n",
       "2     to  1464\n",
       "3    the  1042\n",
       "4      a   953\n",
       "5    and   815\n",
       "6      u   794\n",
       "7     in   726\n",
       "8     my   666\n",
       "9     is   628\n",
       "10    me   559\n",
       "11   for   471\n",
       "12    of   471\n",
       "13  that   430\n",
       "14    it   418\n",
       "15  have   417\n",
       "16   but   395\n",
       "17   are   388\n",
       "18    so   387\n",
       "19  your   377"
      ]
     },
     "execution_count": 244,
     "metadata": {},
     "output_type": "execute_result"
    }
   ],
   "source": [
    "nonspam_df=pd.DataFrame(Counter(ns_corpus).most_common(20))\n",
    "nonspam_df"
   ]
  },
  {
   "cell_type": "code",
   "execution_count": 245,
   "id": "2136f8fe",
   "metadata": {
    "colab": {
     "base_uri": "https://localhost:8080/",
     "height": 470
    },
    "id": "2136f8fe",
    "outputId": "19fcce67-2bfe-4691-ede2-453ef36b7c2c",
    "scrolled": true
   },
   "outputs": [
    {
     "data": {
      "image/png": "[encoded data removed]",
      "text/plain": [
       "<Figure size 432x288 with 1 Axes>"
      ]
     },
     "metadata": {
      "needs_background": "light"
     },
     "output_type": "display_data"
    }
   ],
   "source": [
    "sns.barplot(data=nonspam_df,x=nonspam_df[0],y=nonspam_df[1])\n",
    "plt.xticks(rotation='vertical')\n",
    "plt.show()"
   ]
  },
  {
   "cell_type": "markdown",
   "id": "ed2311e7",
   "metadata": {
    "id": "ed2311e7"
   },
   "source": [
    "from above barplot you can guess most commanly used words in nonspam msgs"
   ]
  },
  {
   "cell_type": "markdown",
   "id": "1f731e6a",
   "metadata": {
    "id": "1f731e6a"
   },
   "source": [
    "### text vectorization"
   ]
  },
  {
   "cell_type": "code",
   "execution_count": 332,
   "id": "5e98e440",
   "metadata": {
    "id": "5e98e440"
   },
   "outputs": [],
   "source": [
    "from sklearn.feature_extraction.text import CountVectorizer,TfidfVectorizer\n",
    "cv=CountVectorizer(ngram_range=(1,2))\n",
    "tfidf=TfidfVectorizer(max_features=2500)"
   ]
  },
  {
   "cell_type": "code",
   "execution_count": 333,
   "id": "f0def4ae",
   "metadata": {
    "colab": {
     "base_uri": "https://localhost:8080/",
     "height": 423
    },
    "id": "f0def4ae",
    "outputId": "469c379f-7edb-4daf-b1ff-208e1c679bb7"
   },
   "outputs": [
    {
     "data": {
      "text/html": [
       "<div>\n",
       "<style scoped>\n",
       "    .dataframe tbody tr th:only-of-type {\n",
       "        vertical-align: middle;\n",
       "    }\n",
       "\n",
       "    .dataframe tbody tr th {\n",
       "        vertical-align: top;\n",
       "    }\n",
       "\n",
       "    .dataframe thead th {\n",
       "        text-align: right;\n",
       "    }\n",
       "</style>\n",
       "<table border=\"1\" class=\"dataframe\">\n",
       "  <thead>\n",
       "    <tr style=\"text-align: right;\">\n",
       "      <th></th>\n",
       "      <th>Class</th>\n",
       "      <th>SMS</th>\n",
       "      <th>transformed_SMS</th>\n",
       "    </tr>\n",
       "  </thead>\n",
       "  <tbody>\n",
       "    <tr>\n",
       "      <th>0</th>\n",
       "      <td>0</td>\n",
       "      <td>go until jurong point, crazy.. available only ...</td>\n",
       "      <td>go jurong point crazi .. avail bugi n great wo...</td>\n",
       "    </tr>\n",
       "    <tr>\n",
       "      <th>1</th>\n",
       "      <td>0</td>\n",
       "      <td>ok lar... joking wif u oni...</td>\n",
       "      <td>ok lar ... joke wif u oni ...</td>\n",
       "    </tr>\n",
       "    <tr>\n",
       "      <th>2</th>\n",
       "      <td>1</td>\n",
       "      <td>free entry in 2 a wkly comp to win fa cup fina...</td>\n",
       "      <td>free entri 2 wkli comp win fa cup final tkts 2...</td>\n",
       "    </tr>\n",
       "    <tr>\n",
       "      <th>3</th>\n",
       "      <td>0</td>\n",
       "      <td>u dun say so early hor... u c already then say...</td>\n",
       "      <td>u dun say earli hor ... u c alreadi say ...</td>\n",
       "    </tr>\n",
       "    <tr>\n",
       "      <th>4</th>\n",
       "      <td>0</td>\n",
       "      <td>nah i don't think he goes to usf, he lives aro...</td>\n",
       "      <td>nah n't think goe usf live around though</td>\n",
       "    </tr>\n",
       "    <tr>\n",
       "      <th>...</th>\n",
       "      <td>...</td>\n",
       "      <td>...</td>\n",
       "      <td>...</td>\n",
       "    </tr>\n",
       "    <tr>\n",
       "      <th>5567</th>\n",
       "      <td>1</td>\n",
       "      <td>this is the 2nd time we have tried 2 contact u...</td>\n",
       "      <td>2nd time tri 2 contact u. u å£750 pound prize ...</td>\n",
       "    </tr>\n",
       "    <tr>\n",
       "      <th>5568</th>\n",
       "      <td>0</td>\n",
       "      <td>will ì_ b going to esplanade fr home?</td>\n",
       "      <td>ì_ b go esplanad fr home</td>\n",
       "    </tr>\n",
       "    <tr>\n",
       "      <th>5569</th>\n",
       "      <td>0</td>\n",
       "      <td>pity, * was in mood for that. so...any other s...</td>\n",
       "      <td>piti mood ... suggest</td>\n",
       "    </tr>\n",
       "    <tr>\n",
       "      <th>5570</th>\n",
       "      <td>0</td>\n",
       "      <td>the guy did some bitching but i acted like i'd...</td>\n",
       "      <td>guy bitch act like 'd interest buy someth els ...</td>\n",
       "    </tr>\n",
       "    <tr>\n",
       "      <th>5571</th>\n",
       "      <td>0</td>\n",
       "      <td>rofl. its true to its name</td>\n",
       "      <td>rolling on the floor laugh true name</td>\n",
       "    </tr>\n",
       "  </tbody>\n",
       "</table>\n",
       "<p>5169 rows × 3 columns</p>\n",
       "</div>"
      ],
      "text/plain": [
       "      Class                                                SMS  \\\n",
       "0         0  go until jurong point, crazy.. available only ...   \n",
       "1         0                      ok lar... joking wif u oni...   \n",
       "2         1  free entry in 2 a wkly comp to win fa cup fina...   \n",
       "3         0  u dun say so early hor... u c already then say...   \n",
       "4         0  nah i don't think he goes to usf, he lives aro...   \n",
       "...     ...                                                ...   \n",
       "5567      1  this is the 2nd time we have tried 2 contact u...   \n",
       "5568      0              will ì_ b going to esplanade fr home?   \n",
       "5569      0  pity, * was in mood for that. so...any other s...   \n",
       "5570      0  the guy did some bitching but i acted like i'd...   \n",
       "5571      0                         rofl. its true to its name   \n",
       "\n",
       "                                        transformed_SMS  \n",
       "0     go jurong point crazi .. avail bugi n great wo...  \n",
       "1                         ok lar ... joke wif u oni ...  \n",
       "2     free entri 2 wkli comp win fa cup final tkts 2...  \n",
       "3           u dun say earli hor ... u c alreadi say ...  \n",
       "4              nah n't think goe usf live around though  \n",
       "...                                                 ...  \n",
       "5567  2nd time tri 2 contact u. u å£750 pound prize ...  \n",
       "5568                           ì_ b go esplanad fr home  \n",
       "5569                              piti mood ... suggest  \n",
       "5570  guy bitch act like 'd interest buy someth els ...  \n",
       "5571               rolling on the floor laugh true name  \n",
       "\n",
       "[5169 rows x 3 columns]"
      ]
     },
     "execution_count": 333,
     "metadata": {},
     "output_type": "execute_result"
    }
   ],
   "source": [
    "df"
   ]
  },
  {
   "cell_type": "code",
   "execution_count": null,
   "id": "02394382",
   "metadata": {},
   "outputs": [],
   "source": []
  },
  {
   "cell_type": "code",
   "execution_count": 334,
   "id": "e31239e9",
   "metadata": {},
   "outputs": [
    {
     "data": {
      "text/plain": [
       "0       go jurong point crazi .. avail bugi n great wo...\n",
       "1                           ok lar ... joke wif u oni ...\n",
       "2       free entri 2 wkli comp win fa cup final tkts 2...\n",
       "3             u dun say earli hor ... u c alreadi say ...\n",
       "4                nah n't think goe usf live around though\n",
       "                              ...                        \n",
       "5567    2nd time tri 2 contact u. u å£750 pound prize ...\n",
       "5568                             ì_ b go esplanad fr home\n",
       "5569                                piti mood ... suggest\n",
       "5570    guy bitch act like 'd interest buy someth els ...\n",
       "5571                 rolling on the floor laugh true name\n",
       "Name: transformed_SMS, Length: 5169, dtype: object"
      ]
     },
     "execution_count": 334,
     "metadata": {},
     "output_type": "execute_result"
    }
   ],
   "source": [
    "df['transformed_SMS']"
   ]
  },
  {
   "cell_type": "code",
   "execution_count": 335,
   "id": "e82b04c5",
   "metadata": {
    "id": "e82b04c5"
   },
   "outputs": [],
   "source": [
    "X=tfidf.fit_transform(df['transformed_SMS']).toarray()"
   ]
  },
  {
   "cell_type": "code",
   "execution_count": 336,
   "id": "491831b3",
   "metadata": {
    "colab": {
     "base_uri": "https://localhost:8080/"
    },
    "id": "491831b3",
    "outputId": "a3aaec0d-3336-4d5f-9ba7-e1622b5f93ca"
   },
   "outputs": [
    {
     "data": {
      "text/plain": [
       "(5169, 2500)"
      ]
     },
     "execution_count": 336,
     "metadata": {},
     "output_type": "execute_result"
    }
   ],
   "source": [
    "X.shape"
   ]
  },
  {
   "cell_type": "code",
   "execution_count": 337,
   "id": "645a4488",
   "metadata": {
    "id": "645a4488"
   },
   "outputs": [],
   "source": [
    "Y=df['Class'].values"
   ]
  },
  {
   "cell_type": "code",
   "execution_count": 338,
   "id": "08f9d2c1",
   "metadata": {
    "colab": {
     "base_uri": "https://localhost:8080/"
    },
    "id": "08f9d2c1",
    "outputId": "ccd68459-cb56-4a2b-fdf8-66bb9644670d"
   },
   "outputs": [
    {
     "data": {
      "text/plain": [
       "array([0, 0, 1, ..., 0, 0, 0])"
      ]
     },
     "execution_count": 338,
     "metadata": {},
     "output_type": "execute_result"
    }
   ],
   "source": [
    "Y"
   ]
  },
  {
   "cell_type": "markdown",
   "id": "ac91910f",
   "metadata": {
    "id": "ac91910f"
   },
   "source": [
    "#### train test split"
   ]
  },
  {
   "cell_type": "code",
   "execution_count": 339,
   "id": "fa455806",
   "metadata": {
    "id": "fa455806"
   },
   "outputs": [],
   "source": [
    "from sklearn.model_selection import train_test_split"
   ]
  },
  {
   "cell_type": "code",
   "execution_count": 340,
   "id": "8a7d7861",
   "metadata": {
    "id": "8a7d7861"
   },
   "outputs": [],
   "source": [
    "x_train,x_test,y_train,y_test=train_test_split(X,Y,test_size=0.20,random_state=2)"
   ]
  },
  {
   "cell_type": "markdown",
   "id": "c04f42c4",
   "metadata": {
    "id": "c04f42c4"
   },
   "source": [
    "#### model building"
   ]
  },
  {
   "cell_type": "code",
   "execution_count": 341,
   "id": "b45e4cd1",
   "metadata": {},
   "outputs": [],
   "source": [
    "from sklearn.naive_bayes import MultinomialNB"
   ]
  },
  {
   "cell_type": "code",
   "execution_count": 342,
   "id": "ec0b97e8",
   "metadata": {},
   "outputs": [
    {
     "data": {
      "text/plain": [
       "MultinomialNB()"
      ]
     },
     "execution_count": 342,
     "metadata": {},
     "output_type": "execute_result"
    }
   ],
   "source": [
    "mnb=MultinomialNB()\n",
    "mnb.fit(x_train,y_train)\n"
   ]
  },
  {
   "cell_type": "code",
   "execution_count": 343,
   "id": "c64235c5",
   "metadata": {},
   "outputs": [],
   "source": [
    "y_pred2=mnb.predict(x_test)"
   ]
  },
  {
   "cell_type": "code",
   "execution_count": 344,
   "id": "fdbf42a1",
   "metadata": {},
   "outputs": [
    {
     "name": "stdout",
     "output_type": "stream",
     "text": [
      "[[896   0]\n",
      " [ 21 117]]\n",
      "0.9796905222437138\n",
      "1.0\n"
     ]
    }
   ],
   "source": [
    "print(confusion_matrix(y_test,y_pred2))\n",
    "print(accuracy_score(y_test,y_pred2))\n",
    "print(precision_score(y_test,y_pred2))"
   ]
  },
  {
   "cell_type": "code",
   "execution_count": 259,
   "id": "7d72fcd2",
   "metadata": {},
   "outputs": [],
   "source": [
    "#from sklearn.cluster import KMeans\n"
   ]
  },
  {
   "cell_type": "code",
   "execution_count": 260,
   "id": "f45dd41e",
   "metadata": {},
   "outputs": [],
   "source": [
    "#from sklearn.tree import DecisionTreeClassifier\n",
    "#classi=DecisionTreeClassifier(criterion='entropy')"
   ]
  },
  {
   "cell_type": "code",
   "execution_count": 261,
   "id": "4c7fda4b",
   "metadata": {},
   "outputs": [],
   "source": [
    "#classi.fit(x_train,y_train)"
   ]
  },
  {
   "cell_type": "code",
   "execution_count": 262,
   "id": "43047bdf",
   "metadata": {},
   "outputs": [],
   "source": [
    "#ypred=classi.predict(x_test)"
   ]
  },
  {
   "cell_type": "code",
   "execution_count": 263,
   "id": "89c75708",
   "metadata": {},
   "outputs": [],
   "source": [
    "from sklearn.metrics import accuracy_score,confusion_matrix, precision_score"
   ]
  },
  {
   "cell_type": "code",
   "execution_count": 264,
   "id": "d15e8d2d",
   "metadata": {},
   "outputs": [],
   "source": [
    "#print(confusion_matrix(y_test,ypred))\n",
    "#print(accuracy_score(y_test,ypred))\n",
    "#print(precision_score(y_test,ypred))"
   ]
  },
  {
   "cell_type": "code",
   "execution_count": null,
   "id": "02a0119f",
   "metadata": {},
   "outputs": [],
   "source": []
  },
  {
   "cell_type": "code",
   "execution_count": 265,
   "id": "DU8fo-A5RRVS",
   "metadata": {
    "id": "DU8fo-A5RRVS"
   },
   "outputs": [],
   "source": [
    "import pickle"
   ]
  },
  {
   "cell_type": "code",
   "execution_count": 266,
   "id": "jHrdhIvJRRSO",
   "metadata": {
    "id": "jHrdhIvJRRSO"
   },
   "outputs": [],
   "source": [
    "pickle.dump(tfidf,open('vectorizer.pkl','wb'))\n",
    "pickle.dump(mnb,open('model.pkl','wb'))"
   ]
  },
  {
   "cell_type": "code",
   "execution_count": null,
   "id": "8T657gmPRRPk",
   "metadata": {
    "id": "8T657gmPRRPk"
   },
   "outputs": [],
   "source": []
  },
  {
   "cell_type": "code",
   "execution_count": null,
   "id": "e08b4371",
   "metadata": {},
   "outputs": [],
   "source": []
  }
 ],
 "metadata": {
  "colab": {
   "provenance": []
  },
  "kernelspec": {
   "display_name": "Python 3 (ipykernel)",
   "language": "python",
   "name": "python3"
  },
  "language_info": {
   "codemirror_mode": {
    "name": "ipython",
    "version": 3
   },
   "file_extension": ".py",
   "mimetype": "text/x-python",
   "name": "python",
   "nbconvert_exporter": "python",
   "pygments_lexer": "ipython3",
   "version": "3.10.2"
  }
 },
 "nbformat": 4,
 "nbformat_minor": 5
}
